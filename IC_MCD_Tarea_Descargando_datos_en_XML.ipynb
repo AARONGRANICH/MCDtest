{
  "cells": [
    {
      "cell_type": "markdown",
      "metadata": {
        "id": "view-in-github",
        "colab_type": "text"
      },
      "source": [
        "<a href=\"https://colab.research.google.com/github/AARONGRANICH/Test_Data_1/blob/main/IC_MCD_Tarea_Descargando_datos_en_XML.ipynb\" target=\"_parent\"><img src=\"https://colab.research.google.com/assets/colab-badge.svg\" alt=\"Open In Colab\"/></a>"
      ]
    },
    {
      "cell_type": "markdown",
      "metadata": {
        "id": "QA5VdyEWxf5P"
      },
      "source": [
        "# Problema Data Science\n",
        "\n",
        "Necesito investigar sobre que novelas hicieron los poetas argentinos. Para esto crearé un dataframe con la información necesaria del archivo XML."
      ]
    },
    {
      "cell_type": "code",
      "execution_count": 1,
      "metadata": {
        "id": "Zc2bTnpwxf5R"
      },
      "outputs": [],
      "source": [
        "import requests\n",
        "import xml.dom.minidom\n",
        "import pandas as pd\n",
        "import numpy as np\n",
        "import xml.etree.cElementTree as et\n",
        "from inspect import getmembers , isclass , isfunction\n",
        "import re"
      ]
    },
    {
      "cell_type": "code",
      "execution_count": 2,
      "metadata": {
        "id": "ucseiLf3xf5T"
      },
      "outputs": [],
      "source": [
        "URL = \"https://raw.githubusercontent.com/mcd-unison/ing-caract/main/ejemplos/integracion/ejemplos/wikipedia-poetas.xml\"\n",
        "\n",
        "response = requests.get(URL)\n",
        "with open('poetas.xml', 'wb') as file:\n",
        "    file.write(response.content)"
      ]
    },
    {
      "cell_type": "code",
      "execution_count": null,
      "metadata": {
        "id": "v96aG63nxf5T"
      },
      "outputs": [],
      "source": [
        "dom = xml.dom.minidom.parse(\"./poetas.xml\") \n",
        "pretty_xml_as_string = dom.toprettyxml()\n",
        "print(pretty_xml_as_string)"
      ]
    },
    {
      "cell_type": "code",
      "execution_count": 4,
      "metadata": {
        "id": "Lgpgv71dxf5V"
      },
      "outputs": [],
      "source": [
        "# Leer XML\n",
        "tree=et.parse('./poetas.xml')\n",
        "root=tree.getroot()"
      ]
    },
    {
      "cell_type": "code",
      "execution_count": 5,
      "metadata": {
        "id": "IZ9WI2_8xf5V"
      },
      "outputs": [],
      "source": [
        "# Con esto jalamos el nombre de los autores y el texto de wikipedia del respectivo autor\n",
        "\n",
        "author_list = []\n",
        "text_list = []\n",
        "\n",
        "for autor in root.findall('{http://www.mediawiki.org/xml/export-0.10/}page'):\n",
        "    \n",
        "    # Nombre del autor \n",
        "    title =  autor.find('{http://www.mediawiki.org/xml/export-0.10/}title')\n",
        "    # Sección de XML para buscar el texto de wikipedia\n",
        "    revision =  autor.find('{http://www.mediawiki.org/xml/export-0.10/}revision')\n",
        "    # Texto de wikipedia\n",
        "    texto = revision.find('{http://www.mediawiki.org/xml/export-0.10/}text')\n",
        "    \n",
        "    author_list.append(title.text)\n",
        "    text_list.append(texto.text)"
      ]
    },
    {
      "cell_type": "code",
      "execution_count": null,
      "metadata": {
        "id": "8nVH4nnYxf5W"
      },
      "outputs": [],
      "source": [
        "# Creamos un dataframe para el nombre de autores\n",
        "df_author = pd.DataFrame(author_list)\n",
        "df_author.columns = ['AUTHOR']\n",
        "\n",
        "# Creamos un dataframe para el texto de wikipedia\n",
        "df_text = pd.DataFrame(text_list)\n",
        "df_text.columns = ['FULL_TEXT']\n",
        "\n",
        "# Juntamos los dos dataframes en uno\n",
        "final_df = pd.concat([df_author, df_text], axis=1, join='inner')\n",
        "final_df"
      ]
    },
    {
      "cell_type": "code",
      "execution_count": null,
      "metadata": {
        "scrolled": true,
        "id": "yDcf08j7xf5W"
      },
      "outputs": [],
      "source": [
        "# Filtramos los premios de cada autor con regex\n",
        "Premios = []\n",
        "\n",
        "for text in final_df['FULL_TEXT']:\n",
        "    Premios_found = re.findall(\"(==\\s*Premios\\w*\\s*==)(.*?)(\\n==)\", text, flags = re.DOTALL)\n",
        "    Premios.append(Premios_found)\n",
        "Premios"
      ]
    },
    {
      "cell_type": "code",
      "execution_count": null,
      "metadata": {
        "id": "LizDdNGixf5X"
      },
      "outputs": [],
      "source": [
        "# Creamos un dataframe para los ensayos\n",
        "\n",
        "df_Premios = pd.DataFrame(Premios)\n",
        "df_Premios.columns = ['Premios']\n",
        "df_Premios"
      ]
    },
    {
      "cell_type": "code",
      "execution_count": null,
      "metadata": {
        "id": "k-FkvC8Uxf5Y"
      },
      "outputs": [],
      "source": [
        "# Actualizamos nuestro dataframe con las obras de cada autor\n",
        "\n",
        "final_df = pd.concat([final_df, df_Premios], axis=1, join='inner')\n",
        "final_df"
      ]
    },
    {
      "cell_type": "code",
      "source": [
        "# Filtramos las obras de cada autor con regex\n",
        "Obras = []\n",
        "\n",
        "for text in final_df['FULL_TEXT']:\n",
        "    Obras_found = re.findall(\"(==\\s*Obras\\w*\\s*==)(.*?)(\\n==)\", text, flags = re.DOTALL)\n",
        "    Obras.append(Obras_found)\n",
        "Obras\n",
        "# Creamos un dataframe para los ensayos\n",
        "\n",
        "df_Obras = pd.DataFrame(Obras)\n",
        "df_Obras.columns = ['Obras']\n",
        "df_Obras\n",
        "# Actualizamos nuestro dataframe con las obras de cada autor\n",
        "\n",
        "final_df = pd.concat([final_df, df_Obras], axis=1, join='inner')\n",
        "final_df"
      ],
      "metadata": {
        "id": "bH6Juijr8p1_"
      },
      "execution_count": null,
      "outputs": []
    },
    {
      "cell_type": "code",
      "execution_count": 12,
      "metadata": {
        "id": "xUiDYvOixf5Y"
      },
      "outputs": [],
      "source": [
        "# Guardamos nuestro dataframe en formato parquet\n",
        "\n",
        "final_df.to_parquet('poetas_df.parquet') "
      ]
    }
  ],
  "metadata": {
    "kernelspec": {
      "display_name": "Python 3 (ipykernel)",
      "language": "python",
      "name": "python3"
    },
    "language_info": {
      "codemirror_mode": {
        "name": "ipython",
        "version": 3
      },
      "file_extension": ".py",
      "mimetype": "text/x-python",
      "name": "python",
      "nbconvert_exporter": "python",
      "pygments_lexer": "ipython3",
      "version": "3.9.12"
    },
    "vscode": {
      "interpreter": {
        "hash": "7bbc88b994272282fd1a09defab1a3c7c3501499b032f2963e06b3f53c7729f7"
      }
    },
    "colab": {
      "provenance": [],
      "include_colab_link": true
    }
  },
  "nbformat": 4,
  "nbformat_minor": 0
}